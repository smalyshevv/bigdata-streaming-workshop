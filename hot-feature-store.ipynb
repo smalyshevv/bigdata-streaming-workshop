{
 "cells": [
  {
   "cell_type": "code",
   "execution_count": 1,
   "id": "a7758103-f982-4248-84ed-9fcd04d3c4d1",
   "metadata": {
    "jupyter": {
     "is_executing": true
    }
   },
   "outputs": [],
   "source": [
    "import redis"
   ]
  },
  {
   "cell_type": "code",
   "execution_count": 2,
   "id": "afbcc601-7198-4735-8b9a-32ce3e141d01",
   "metadata": {},
   "outputs": [],
   "source": [
    "redis_ctr = redis.Redis(host='localhost', port=6379, db=0, decode_responses=True)"
   ]
  },
  {
   "cell_type": "code",
   "execution_count": 3,
   "id": "e18de410-d4ad-43d0-b276-b3e3e6f554c6",
   "metadata": {
    "scrolled": true
   },
   "outputs": [
    {
     "data": {
      "text/plain": [
       "['5', '10', '2', '3', '7', '9', '8']"
      ]
     },
     "execution_count": 3,
     "metadata": {},
     "output_type": "execute_result"
    }
   ],
   "source": [
    "redis_ctr.keys()"
   ]
  },
  {
   "cell_type": "code",
   "execution_count": 4,
   "id": "74eefb91-f2bd-465e-abbd-7d83e6eab3f3",
   "metadata": {},
   "outputs": [],
   "source": [
    "from time import sleep"
   ]
  },
  {
   "cell_type": "code",
   "execution_count": 16,
   "id": "ecefea27-80f3-452a-86e0-4112a58a5feb",
   "metadata": {},
   "outputs": [],
   "source": [
    "OBJECT_ID = 2"
   ]
  },
  {
   "cell_type": "code",
   "execution_count": 18,
   "id": "b2569929-859c-4f6d-b0b7-1efa67a78f51",
   "metadata": {},
   "outputs": [
    {
     "name": "stdout",
     "output_type": "stream",
     "text": [
      "redis values:  140,316 current ctr on object_id 2:  0.4430379746835443\n",
      "redis values:  140,316 current ctr on object_id 2:  0.4430379746835443\n",
      "redis values:  140,316 current ctr on object_id 2:  0.4430379746835443\n",
      "redis values:  140,319 current ctr on object_id 2:  0.438871473354232\n",
      "redis values:  140,319 current ctr on object_id 2:  0.438871473354232\n",
      "redis values:  141,321 current ctr on object_id 2:  0.4392523364485981\n",
      "redis values:  141,321 current ctr on object_id 2:  0.4392523364485981\n",
      "redis values:  145,327 current ctr on object_id 2:  0.4434250764525994\n",
      "redis values:  145,327 current ctr on object_id 2:  0.4434250764525994\n",
      "redis values:  146,330 current ctr on object_id 2:  0.44242424242424244\n",
      "redis values:  146,330 current ctr on object_id 2:  0.44242424242424244\n",
      "redis values:  148,334 current ctr on object_id 2:  0.4431137724550898\n",
      "redis values:  148,334 current ctr on object_id 2:  0.4431137724550898\n",
      "redis values:  149,336 current ctr on object_id 2:  0.44345238095238093\n",
      "redis values:  149,336 current ctr on object_id 2:  0.44345238095238093\n",
      "redis values:  150,337 current ctr on object_id 2:  0.44510385756676557\n",
      "redis values:  150,337 current ctr on object_id 2:  0.44510385756676557\n",
      "redis values:  150,337 current ctr on object_id 2:  0.44510385756676557\n",
      "redis values:  150,337 current ctr on object_id 2:  0.44510385756676557\n",
      "redis values:  152,339 current ctr on object_id 2:  0.44837758112094395\n"
     ]
    }
   ],
   "source": [
    "# taking ctr data multiple times to ensure that data is changed from streaming processing\n",
    "# first component is positive click count , second is views count\n",
    "# ctr = (positive click count) / (views count)\n",
    "for _ in range(20):\n",
    "    redis_ctr_value = redis_ctr.get(OBJECT_ID)\n",
    "    message_values_list = redis_ctr_value.split(',')\n",
    "    positive_click_count = int(message_values_list[0])\n",
    "    views_count = int(message_values_list[1])\n",
    "    ctr = positive_click_count / views_count\n",
    "    print(\"redis values: \", redis_ctr_value, f\"current ctr on object_id {OBJECT_ID}: \", ctr )\n",
    "    sleep(1)"
   ]
  },
  {
   "cell_type": "code",
   "execution_count": 12,
   "id": "15cc2338-8a96-4e11-886c-aacb7df18c33",
   "metadata": {},
   "outputs": [],
   "source": [
    "redis_timespent = redis.Redis(host='localhost', port=6379, db=1, decode_responses=True)"
   ]
  },
  {
   "cell_type": "code",
   "execution_count": 13,
   "id": "d06f31f5-806f-434e-bed9-7775d29d44e1",
   "metadata": {},
   "outputs": [
    {
     "data": {
      "text/plain": [
       "['2', '10', '4', '9', '7', '6', '1', '5', '3', '8']"
      ]
     },
     "execution_count": 13,
     "metadata": {},
     "output_type": "execute_result"
    }
   ],
   "source": [
    "redis_timespent.keys()"
   ]
  },
  {
   "cell_type": "code",
   "execution_count": 21,
   "id": "4e55ad53-20e1-4b6b-9846-7ea5ef6c3e29",
   "metadata": {},
   "outputs": [
    {
     "name": "stdout",
     "output_type": "stream",
     "text": [
      "redis values:  1165108133,227 current ctr on object_id 2:  5132634.947136564\n",
      "redis values:  1170390321,228 current ctr on object_id 2:  5133290.881578947\n",
      "redis values:  1170390321,228 current ctr on object_id 2:  5133290.881578947\n",
      "redis values:  1170390321,228 current ctr on object_id 2:  5133290.881578947\n",
      "redis values:  1170390321,228 current ctr on object_id 2:  5133290.881578947\n",
      "redis values:  1178823304,229 current ctr on object_id 2:  5147700.017467249\n",
      "redis values:  1178823304,229 current ctr on object_id 2:  5147700.017467249\n",
      "redis values:  1178823304,229 current ctr on object_id 2:  5147700.017467249\n",
      "redis values:  1178823304,229 current ctr on object_id 2:  5147700.017467249\n",
      "redis values:  1178823304,229 current ctr on object_id 2:  5147700.017467249\n",
      "redis values:  1178823304,229 current ctr on object_id 2:  5147700.017467249\n",
      "redis values:  1182414431,230 current ctr on object_id 2:  5140932.3086956525\n",
      "redis values:  1182414431,230 current ctr on object_id 2:  5140932.3086956525\n",
      "redis values:  1187205814,231 current ctr on object_id 2:  5139419.108225108\n",
      "redis values:  1187205814,231 current ctr on object_id 2:  5139419.108225108\n",
      "redis values:  1199922611,233 current ctr on object_id 2:  5149882.450643777\n",
      "redis values:  1215076000,235 current ctr on object_id 2:  5170536.170212766\n",
      "redis values:  1215076000,235 current ctr on object_id 2:  5170536.170212766\n",
      "redis values:  1228479669,237 current ctr on object_id 2:  5183458.518987342\n",
      "redis values:  1228479669,237 current ctr on object_id 2:  5183458.518987342\n"
     ]
    }
   ],
   "source": [
    "# taking timespent data multiple times to ensure that data is changed from streaming processing\n",
    "# first component is timespent , second is views count\n",
    "# ctr = (positive click count) / (views count)\n",
    "for _ in range(20):\n",
    "    redis_ts_value = redis_timespent.get(OBJECT_ID)\n",
    "    message_values_list = redis_ts_value.split(',')\n",
    "    timespent_sum = int(message_values_list[0])\n",
    "    views_count = int(message_values_list[1])\n",
    "    mean_ts = timespent_sum / views_count\n",
    "    print(\"redis values: \", redis_ts_value, f\"current mean_ts on object_id {OBJECT_ID}: \", mean_ts)\n",
    "    sleep(1)"
   ]
  },
  {
   "cell_type": "code",
   "execution_count": null,
   "id": "e4002e68-263b-4378-944e-131cb2cfb4f3",
   "metadata": {},
   "outputs": [],
   "source": []
  }
 ],
 "metadata": {
  "kernelspec": {
   "display_name": "berlink148_venv",
   "language": "python",
   "name": "berlink148_venv"
  },
  "language_info": {
   "codemirror_mode": {
    "name": "ipython",
    "version": 3
   },
   "file_extension": ".py",
   "mimetype": "text/x-python",
   "name": "python",
   "nbconvert_exporter": "python",
   "pygments_lexer": "ipython3",
   "version": "3.8.16"
  }
 },
 "nbformat": 4,
 "nbformat_minor": 5
}
