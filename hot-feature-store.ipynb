{
 "cells": [
  {
   "cell_type": "code",
   "execution_count": 1,
   "id": "a7758103-f982-4248-84ed-9fcd04d3c4d1",
   "metadata": {
    "jupyter": {
     "is_executing": true
    }
   },
   "outputs": [],
   "source": [
    "import redis"
   ]
  },
  {
   "cell_type": "code",
   "execution_count": 2,
   "id": "afbcc601-7198-4735-8b9a-32ce3e141d01",
   "metadata": {},
   "outputs": [],
   "source": [
    "redis_ctr = redis.Redis(host='localhost', port=6379, db=0, decode_responses=True)"
   ]
  },
  {
   "cell_type": "code",
   "execution_count": 3,
   "id": "e18de410-d4ad-43d0-b276-b3e3e6f554c6",
   "metadata": {
    "scrolled": true
   },
   "outputs": [
    {
     "data": {
      "text/plain": [
       "['10', '5', '6', '3', '9', '4', '8', '2', '1', '7']"
      ]
     },
     "execution_count": 3,
     "metadata": {},
     "output_type": "execute_result"
    }
   ],
   "source": [
    "redis_ctr.keys()"
   ]
  },
  {
   "cell_type": "code",
   "execution_count": 4,
   "id": "74eefb91-f2bd-465e-abbd-7d83e6eab3f3",
   "metadata": {},
   "outputs": [],
   "source": [
    "from time import sleep"
   ]
  },
  {
   "cell_type": "code",
   "execution_count": 5,
   "id": "b2569929-859c-4f6d-b0b7-1efa67a78f51",
   "metadata": {},
   "outputs": [
    {
     "name": "stdout",
     "output_type": "stream",
     "text": [
      "3,6\n",
      "3,6\n",
      "3,6\n",
      "3,6\n",
      "3,6\n",
      "3,6\n",
      "3,6\n",
      "3,6\n",
      "3,6\n",
      "3,6\n",
      "3,6\n",
      "3,6\n",
      "3,6\n",
      "3,6\n",
      "4,7\n",
      "4,7\n",
      "5,8\n",
      "5,8\n",
      "5,8\n",
      "5,8\n"
     ]
    },
    {
     "ename": "KeyboardInterrupt",
     "evalue": "",
     "output_type": "error",
     "traceback": [
      "\u001b[0;31m---------------------------------------------------------------------------\u001b[0m",
      "\u001b[0;31mKeyboardInterrupt\u001b[0m                         Traceback (most recent call last)",
      "Cell \u001b[0;32mIn[5], line 3\u001b[0m\n\u001b[1;32m      1\u001b[0m \u001b[38;5;28;01mfor\u001b[39;00m _ \u001b[38;5;129;01min\u001b[39;00m \u001b[38;5;28mrange\u001b[39m(\u001b[38;5;241m100\u001b[39m):\n\u001b[1;32m      2\u001b[0m     \u001b[38;5;28mprint\u001b[39m(redis_ctr\u001b[38;5;241m.\u001b[39mget(\u001b[38;5;241m2\u001b[39m))\n\u001b[0;32m----> 3\u001b[0m     \u001b[43msleep\u001b[49m\u001b[43m(\u001b[49m\u001b[38;5;241;43m1\u001b[39;49m\u001b[43m)\u001b[49m\n",
      "\u001b[0;31mKeyboardInterrupt\u001b[0m: "
     ]
    }
   ],
   "source": [
    "for _ in range(100):\n",
    "    print(redis_ctr.get(2))\n",
    "    sleep(1)"
   ]
  },
  {
   "cell_type": "code",
   "execution_count": 6,
   "id": "15cc2338-8a96-4e11-886c-aacb7df18c33",
   "metadata": {},
   "outputs": [],
   "source": [
    "redis_timespent = redis.Redis(host='localhost', port=6379, db=1, decode_responses=True)"
   ]
  },
  {
   "cell_type": "code",
   "execution_count": 7,
   "id": "d06f31f5-806f-434e-bed9-7775d29d44e1",
   "metadata": {},
   "outputs": [
    {
     "data": {
      "text/plain": [
       "['10', '5', '6', '9', '3', '4', '8', '2', '1', '7']"
      ]
     },
     "execution_count": 7,
     "metadata": {},
     "output_type": "execute_result"
    }
   ],
   "source": [
    "redis_timespent.keys()"
   ]
  },
  {
   "cell_type": "code",
   "execution_count": 9,
   "id": "4e55ad53-20e1-4b6b-9846-7ea5ef6c3e29",
   "metadata": {},
   "outputs": [
    {
     "name": "stdout",
     "output_type": "stream",
     "text": [
      "18303530,3\n",
      "18303530,3\n",
      "18303530,3\n",
      "25319101,4\n",
      "25319101,4\n",
      "25319101,4\n",
      "25319101,4\n",
      "27854333,5\n",
      "27854333,5\n",
      "27854333,5\n",
      "27854333,5\n",
      "27854333,5\n",
      "27854333,5\n",
      "27854333,5\n",
      "27854333,5\n"
     ]
    },
    {
     "ename": "KeyboardInterrupt",
     "evalue": "",
     "output_type": "error",
     "traceback": [
      "\u001b[0;31m---------------------------------------------------------------------------\u001b[0m",
      "\u001b[0;31mKeyboardInterrupt\u001b[0m                         Traceback (most recent call last)",
      "Cell \u001b[0;32mIn[9], line 3\u001b[0m\n\u001b[1;32m      1\u001b[0m \u001b[38;5;28;01mfor\u001b[39;00m _ \u001b[38;5;129;01min\u001b[39;00m \u001b[38;5;28mrange\u001b[39m(\u001b[38;5;241m100\u001b[39m):\n\u001b[1;32m      2\u001b[0m     \u001b[38;5;28mprint\u001b[39m(redis_timespent\u001b[38;5;241m.\u001b[39mget(\u001b[38;5;241m2\u001b[39m))\n\u001b[0;32m----> 3\u001b[0m     \u001b[43msleep\u001b[49m\u001b[43m(\u001b[49m\u001b[38;5;241;43m1\u001b[39;49m\u001b[43m)\u001b[49m\n",
      "\u001b[0;31mKeyboardInterrupt\u001b[0m: "
     ]
    }
   ],
   "source": [
    "for _ in range(100):\n",
    "    print(redis_timespent.get(2))\n",
    "    sleep(1)"
   ]
  },
  {
   "cell_type": "code",
   "execution_count": null,
   "id": "e4002e68-263b-4378-944e-131cb2cfb4f3",
   "metadata": {},
   "outputs": [],
   "source": []
  }
 ],
 "metadata": {
  "kernelspec": {
   "display_name": "berlink148_venv",
   "language": "python",
   "name": "berlink148_venv"
  },
  "language_info": {
   "codemirror_mode": {
    "name": "ipython",
    "version": 3
   },
   "file_extension": ".py",
   "mimetype": "text/x-python",
   "name": "python",
   "nbconvert_exporter": "python",
   "pygments_lexer": "ipython3",
   "version": "3.8.16"
  }
 },
 "nbformat": 4,
 "nbformat_minor": 5
}
